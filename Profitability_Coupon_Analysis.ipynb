{
 "cells": [
  {
   "cell_type": "markdown",
   "metadata": {},
   "source": [
    "![alt text](https://image.noelshack.com/fichiers/2019/47/6/1574505382-5da48ca7903cd7114c5a1f631d083fdf.jpg)"
   ]
  },
  {
   "cell_type": "markdown",
   "metadata": {},
   "source": [
    "# Test technique - Session 11/2019\n",
    "___\n"
   ]
  },
  {
   "cell_type": "markdown",
   "metadata": {},
   "source": [
    "# Introduction\n",
    "Nous allons ensemble étudier la rentabilité d'un code de promotion, permettant à ses utilisateurs de multiplier leurs points de fidélité par 5 durant une période de 5 jours.\n",
    "\n",
    "***"
   ]
  },
  {
   "cell_type": "markdown",
   "metadata": {},
   "source": [
    "# Sommaire\n",
    "\n",
    "1. [Partie 0: Nettoyage des données](#Clean)\n",
    "\n",
    "\n",
    "2. [Partie 1: Avoir un aperçu de la façon dont le code promotionnel a été utilisé](#Part1) <br/>\n",
    "\n",
    "    1. [le nombre de personnes qui le réclament](#Claim)\n",
    "    2. [le nombre de personnes qui en ont bénéficié](#Benefited)\n",
    "    3. [le taux de conversion](#Conversion)\n",
    "    4. [nombre de courses effectué avec ce code promotionnel](#Ridesnb)\n",
    "    5. [répartition des utilisateurs par statut de fidélité](#Users)\n",
    "    6. [répartition des courses effectuées par chaque statut de fidélité](#Rides)\n",
    "\n",
    "3. [Partie 2: était-ce une bonne campagne ?](#Part2)\n",
    "    1. [Coût de la campagne](#Cost)\n",
    "    2. [Revenus additionnels générés par la campagne](#Incomes)\n",
    "    3. [Calcul du ROI](#ROI)\n",
    "    \n",
    "    \n",
    "---"
   ]
  },
  {
   "cell_type": "markdown",
   "metadata": {},
   "source": [
    "## Partie 0: Nettoyage des données <a name=\"Clean\"></a>"
   ]
  },
  {
   "cell_type": "markdown",
   "metadata": {},
   "source": [
    "Nous commencerons donc par analyser grossièrement les deux dataset qui nous sont donnés, `events.csv` et `rides.csv`.\n",
    "Pour ce faire nous utiliserons les fonctions `head`, `describe`,  `info` et l'attribut `dtypes`.<br/>\n",
    "Celles-ci nous permettront de voir ce qu'il va être important de faire pour nettoyer les données."
   ]
  },
  {
   "cell_type": "markdown",
   "metadata": {},
   "source": [
    "###### Events.csv"
   ]
  },
  {
   "cell_type": "code",
   "execution_count": 2,
   "metadata": {},
   "outputs": [
    {
     "data": {
      "text/html": [
       "<div>\n",
       "<style scoped>\n",
       "    .dataframe tbody tr th:only-of-type {\n",
       "        vertical-align: middle;\n",
       "    }\n",
       "\n",
       "    .dataframe tbody tr th {\n",
       "        vertical-align: top;\n",
       "    }\n",
       "\n",
       "    .dataframe thead th {\n",
       "        text-align: right;\n",
       "    }\n",
       "</style>\n",
       "<table border=\"1\" class=\"dataframe\">\n",
       "  <thead>\n",
       "    <tr style=\"text-align: right;\">\n",
       "      <th></th>\n",
       "      <th>event_id</th>\n",
       "      <th>ride_id</th>\n",
       "      <th>type</th>\n",
       "      <th>user_id</th>\n",
       "      <th>promocode_name</th>\n",
       "    </tr>\n",
       "  </thead>\n",
       "  <tbody>\n",
       "    <tr>\n",
       "      <th>0</th>\n",
       "      <td>457113065c424d25eff17823ad888162</td>\n",
       "      <td>NaN</td>\n",
       "      <td>other_coupon_action</td>\n",
       "      <td>c045abae8a3110ea6cec54b2f49f9f2d</td>\n",
       "      <td>89f13478125cee693ce7f76fedf01808</td>\n",
       "    </tr>\n",
       "    <tr>\n",
       "      <th>1</th>\n",
       "      <td>06e5ceb932743b583dc4349f617d1fde</td>\n",
       "      <td>NaN</td>\n",
       "      <td>coupon_created</td>\n",
       "      <td>c33cc932b7a4feb6f51d7ed1077faa05</td>\n",
       "      <td>8041613eff4408b9268b66430cf5d9a1</td>\n",
       "    </tr>\n",
       "    <tr>\n",
       "      <th>2</th>\n",
       "      <td>f08b5f110a9e2e9c3eac3f03e8ad801b</td>\n",
       "      <td>NaN</td>\n",
       "      <td>coupon_created</td>\n",
       "      <td>da03b00f7dd32fa31b800ecb762ef1df</td>\n",
       "      <td>308dd493382b32ebf486da92fdeaf38d</td>\n",
       "    </tr>\n",
       "    <tr>\n",
       "      <th>3</th>\n",
       "      <td>4265bc09df57f4fb6991f832b24e643c</td>\n",
       "      <td>NaN</td>\n",
       "      <td>coupon_created</td>\n",
       "      <td>0928a1d559774b05be5e6926920d2873</td>\n",
       "      <td>c4afe8e1914a1f612ca82d59ec72c771</td>\n",
       "    </tr>\n",
       "    <tr>\n",
       "      <th>4</th>\n",
       "      <td>4a5d1f58698acb12ca4da6b24535693d</td>\n",
       "      <td>NaN</td>\n",
       "      <td>coupon_created</td>\n",
       "      <td>960025162805d2c5942334c5ed200528</td>\n",
       "      <td>308dd493382b32ebf486da92fdeaf38d</td>\n",
       "    </tr>\n",
       "  </tbody>\n",
       "</table>\n",
       "</div>"
      ],
      "text/plain": [
       "                           event_id ride_id                 type  \\\n",
       "0  457113065c424d25eff17823ad888162     NaN  other_coupon_action   \n",
       "1  06e5ceb932743b583dc4349f617d1fde     NaN       coupon_created   \n",
       "2  f08b5f110a9e2e9c3eac3f03e8ad801b     NaN       coupon_created   \n",
       "3  4265bc09df57f4fb6991f832b24e643c     NaN       coupon_created   \n",
       "4  4a5d1f58698acb12ca4da6b24535693d     NaN       coupon_created   \n",
       "\n",
       "                            user_id                    promocode_name  \n",
       "0  c045abae8a3110ea6cec54b2f49f9f2d  89f13478125cee693ce7f76fedf01808  \n",
       "1  c33cc932b7a4feb6f51d7ed1077faa05  8041613eff4408b9268b66430cf5d9a1  \n",
       "2  da03b00f7dd32fa31b800ecb762ef1df  308dd493382b32ebf486da92fdeaf38d  \n",
       "3  0928a1d559774b05be5e6926920d2873  c4afe8e1914a1f612ca82d59ec72c771  \n",
       "4  960025162805d2c5942334c5ed200528  308dd493382b32ebf486da92fdeaf38d  "
      ]
     },
     "execution_count": 2,
     "metadata": {},
     "output_type": "execute_result"
    }
   ],
   "source": [
    "import pandas as pd\n",
    "events = pd.read_csv(\"events.csv\")\n",
    "events.head(5)"
   ]
  },
  {
   "cell_type": "code",
   "execution_count": 3,
   "metadata": {},
   "outputs": [
    {
     "name": "stdout",
     "output_type": "stream",
     "text": [
      "<class 'pandas.core.frame.DataFrame'>\n",
      "RangeIndex: 292309 entries, 0 to 292308\n",
      "Data columns (total 5 columns):\n",
      "event_id          292309 non-null object\n",
      "ride_id           102431 non-null object\n",
      "type              292309 non-null object\n",
      "user_id           292309 non-null object\n",
      "promocode_name    292309 non-null object\n",
      "dtypes: object(5)\n",
      "memory usage: 11.2+ MB\n"
     ]
    }
   ],
   "source": [
    "events.info()"
   ]
  },
  {
   "cell_type": "markdown",
   "metadata": {},
   "source": [
    "On remarque que la colonne `ride_id` est peu utilisée. De plus il nous est demandé de ne pas nous en servir dans notre analyse.<br/>\n",
    "Nous n'aurons pas non plus besoin de la colonne `event_id`<br/>\n",
    "Nous pouvons donc supprimer ces deux colonnes grâce à la fonction `drop` <br/>\n",
    "ici l'attribut `inplace` nous permet de modifier le dataframe et non pas une copie"
   ]
  },
  {
   "cell_type": "code",
   "execution_count": 4,
   "metadata": {},
   "outputs": [
    {
     "data": {
      "text/html": [
       "<div>\n",
       "<style scoped>\n",
       "    .dataframe tbody tr th:only-of-type {\n",
       "        vertical-align: middle;\n",
       "    }\n",
       "\n",
       "    .dataframe tbody tr th {\n",
       "        vertical-align: top;\n",
       "    }\n",
       "\n",
       "    .dataframe thead th {\n",
       "        text-align: right;\n",
       "    }\n",
       "</style>\n",
       "<table border=\"1\" class=\"dataframe\">\n",
       "  <thead>\n",
       "    <tr style=\"text-align: right;\">\n",
       "      <th></th>\n",
       "      <th>type</th>\n",
       "      <th>user_id</th>\n",
       "      <th>promocode_name</th>\n",
       "    </tr>\n",
       "  </thead>\n",
       "  <tbody>\n",
       "    <tr>\n",
       "      <th>0</th>\n",
       "      <td>other_coupon_action</td>\n",
       "      <td>c045abae8a3110ea6cec54b2f49f9f2d</td>\n",
       "      <td>89f13478125cee693ce7f76fedf01808</td>\n",
       "    </tr>\n",
       "    <tr>\n",
       "      <th>1</th>\n",
       "      <td>coupon_created</td>\n",
       "      <td>c33cc932b7a4feb6f51d7ed1077faa05</td>\n",
       "      <td>8041613eff4408b9268b66430cf5d9a1</td>\n",
       "    </tr>\n",
       "    <tr>\n",
       "      <th>2</th>\n",
       "      <td>coupon_created</td>\n",
       "      <td>da03b00f7dd32fa31b800ecb762ef1df</td>\n",
       "      <td>308dd493382b32ebf486da92fdeaf38d</td>\n",
       "    </tr>\n",
       "    <tr>\n",
       "      <th>3</th>\n",
       "      <td>coupon_created</td>\n",
       "      <td>0928a1d559774b05be5e6926920d2873</td>\n",
       "      <td>c4afe8e1914a1f612ca82d59ec72c771</td>\n",
       "    </tr>\n",
       "    <tr>\n",
       "      <th>4</th>\n",
       "      <td>coupon_created</td>\n",
       "      <td>960025162805d2c5942334c5ed200528</td>\n",
       "      <td>308dd493382b32ebf486da92fdeaf38d</td>\n",
       "    </tr>\n",
       "  </tbody>\n",
       "</table>\n",
       "</div>"
      ],
      "text/plain": [
       "                  type                           user_id  \\\n",
       "0  other_coupon_action  c045abae8a3110ea6cec54b2f49f9f2d   \n",
       "1       coupon_created  c33cc932b7a4feb6f51d7ed1077faa05   \n",
       "2       coupon_created  da03b00f7dd32fa31b800ecb762ef1df   \n",
       "3       coupon_created  0928a1d559774b05be5e6926920d2873   \n",
       "4       coupon_created  960025162805d2c5942334c5ed200528   \n",
       "\n",
       "                     promocode_name  \n",
       "0  89f13478125cee693ce7f76fedf01808  \n",
       "1  8041613eff4408b9268b66430cf5d9a1  \n",
       "2  308dd493382b32ebf486da92fdeaf38d  \n",
       "3  c4afe8e1914a1f612ca82d59ec72c771  \n",
       "4  308dd493382b32ebf486da92fdeaf38d  "
      ]
     },
     "execution_count": 4,
     "metadata": {},
     "output_type": "execute_result"
    }
   ],
   "source": [
    "events.drop(['event_id', 'ride_id'], axis=1, inplace=True)\n",
    "events.head()"
   ]
  },
  {
   "cell_type": "markdown",
   "metadata": {},
   "source": [
    "###### rides.csv"
   ]
  },
  {
   "cell_type": "code",
   "execution_count": 5,
   "metadata": {},
   "outputs": [
    {
     "data": {
      "text/html": [
       "<div>\n",
       "<style scoped>\n",
       "    .dataframe tbody tr th:only-of-type {\n",
       "        vertical-align: middle;\n",
       "    }\n",
       "\n",
       "    .dataframe tbody tr th {\n",
       "        vertical-align: top;\n",
       "    }\n",
       "\n",
       "    .dataframe thead th {\n",
       "        text-align: right;\n",
       "    }\n",
       "</style>\n",
       "<table border=\"1\" class=\"dataframe\">\n",
       "  <thead>\n",
       "    <tr style=\"text-align: right;\">\n",
       "      <th></th>\n",
       "      <th>ride_id</th>\n",
       "      <th>user_id</th>\n",
       "      <th>loyalty.status</th>\n",
       "      <th>booking_id</th>\n",
       "      <th>isGuest</th>\n",
       "      <th>loyalty_points_earned</th>\n",
       "      <th>price.loyalty.points_spent</th>\n",
       "      <th>price_nominal</th>\n",
       "      <th>price_after_discount</th>\n",
       "      <th>state</th>\n",
       "      <th>quote_date</th>\n",
       "    </tr>\n",
       "  </thead>\n",
       "  <tbody>\n",
       "    <tr>\n",
       "      <th>0</th>\n",
       "      <td>357a545ef665da69dd86ac33ae817f3a</td>\n",
       "      <td>c6f3a631ae33a84c343dd9c553889337</td>\n",
       "      <td>1</td>\n",
       "      <td>1ea36f95a86a5a876456ce66587f4882</td>\n",
       "      <td>False</td>\n",
       "      <td>0</td>\n",
       "      <td>NaN</td>\n",
       "      <td>5.48</td>\n",
       "      <td>5.80</td>\n",
       "      <td>not_completed</td>\n",
       "      <td>2017-03-01 11:07:49</td>\n",
       "    </tr>\n",
       "    <tr>\n",
       "      <th>1</th>\n",
       "      <td>5714536c4b4b1b10c4cd8ac907537044</td>\n",
       "      <td>0bad5fc7936b072d8de8749b9dd608c6</td>\n",
       "      <td>1</td>\n",
       "      <td>NaN</td>\n",
       "      <td>False</td>\n",
       "      <td>0</td>\n",
       "      <td>NaN</td>\n",
       "      <td>4.72</td>\n",
       "      <td>4.72</td>\n",
       "      <td>not_completed</td>\n",
       "      <td>2017-03-02 22:45:02</td>\n",
       "    </tr>\n",
       "    <tr>\n",
       "      <th>2</th>\n",
       "      <td>5c8f5dec570b6597090f8b30ea33b0af</td>\n",
       "      <td>0bad5fc7936b072d8de8749b9dd608c6</td>\n",
       "      <td>1</td>\n",
       "      <td>NaN</td>\n",
       "      <td>False</td>\n",
       "      <td>5</td>\n",
       "      <td>NaN</td>\n",
       "      <td>4.72</td>\n",
       "      <td>4.72</td>\n",
       "      <td>completed</td>\n",
       "      <td>2017-03-02 22:45:22</td>\n",
       "    </tr>\n",
       "    <tr>\n",
       "      <th>3</th>\n",
       "      <td>0f37be24f23a15746eb8774e7a1bd934</td>\n",
       "      <td>37169a3d6636e14afabb1dbe01f5c83e</td>\n",
       "      <td>0</td>\n",
       "      <td>NaN</td>\n",
       "      <td>False</td>\n",
       "      <td>8</td>\n",
       "      <td>NaN</td>\n",
       "      <td>7.68</td>\n",
       "      <td>7.68</td>\n",
       "      <td>completed</td>\n",
       "      <td>2017-03-03 00:22:45</td>\n",
       "    </tr>\n",
       "    <tr>\n",
       "      <th>4</th>\n",
       "      <td>67f054abb8b60132dd7c19cb30e74e10</td>\n",
       "      <td>b89d8219faa82966c7b33ee69b484ad2</td>\n",
       "      <td>3</td>\n",
       "      <td>NaN</td>\n",
       "      <td>False</td>\n",
       "      <td>7</td>\n",
       "      <td>NaN</td>\n",
       "      <td>4.00</td>\n",
       "      <td>4.00</td>\n",
       "      <td>completed</td>\n",
       "      <td>2017-03-04 03:32:15</td>\n",
       "    </tr>\n",
       "  </tbody>\n",
       "</table>\n",
       "</div>"
      ],
      "text/plain": [
       "                            ride_id                           user_id  \\\n",
       "0  357a545ef665da69dd86ac33ae817f3a  c6f3a631ae33a84c343dd9c553889337   \n",
       "1  5714536c4b4b1b10c4cd8ac907537044  0bad5fc7936b072d8de8749b9dd608c6   \n",
       "2  5c8f5dec570b6597090f8b30ea33b0af  0bad5fc7936b072d8de8749b9dd608c6   \n",
       "3  0f37be24f23a15746eb8774e7a1bd934  37169a3d6636e14afabb1dbe01f5c83e   \n",
       "4  67f054abb8b60132dd7c19cb30e74e10  b89d8219faa82966c7b33ee69b484ad2   \n",
       "\n",
       "   loyalty.status                        booking_id  isGuest  \\\n",
       "0               1  1ea36f95a86a5a876456ce66587f4882    False   \n",
       "1               1                               NaN    False   \n",
       "2               1                               NaN    False   \n",
       "3               0                               NaN    False   \n",
       "4               3                               NaN    False   \n",
       "\n",
       "   loyalty_points_earned price.loyalty.points_spent  price_nominal  \\\n",
       "0                      0                        NaN           5.48   \n",
       "1                      0                        NaN           4.72   \n",
       "2                      5                        NaN           4.72   \n",
       "3                      8                        NaN           7.68   \n",
       "4                      7                        NaN           4.00   \n",
       "\n",
       "   price_after_discount          state           quote_date  \n",
       "0                  5.80  not_completed  2017-03-01 11:07:49  \n",
       "1                  4.72  not_completed  2017-03-02 22:45:02  \n",
       "2                  4.72      completed  2017-03-02 22:45:22  \n",
       "3                  7.68      completed  2017-03-03 00:22:45  \n",
       "4                  4.00      completed  2017-03-04 03:32:15  "
      ]
     },
     "execution_count": 5,
     "metadata": {},
     "output_type": "execute_result"
    }
   ],
   "source": [
    "rides = pd.read_csv(\"rides.csv\")\n",
    "rides.head()"
   ]
  },
  {
   "cell_type": "markdown",
   "metadata": {},
   "source": [
    "Ici nous n'avons pas besoin des colonnes `ride_id`, `booking_id`, `isGuest` et `price_nominal` .<br/>\n",
    "Nous pouvons donc les enlever de notre dataframe"
   ]
  },
  {
   "cell_type": "code",
   "execution_count": 6,
   "metadata": {},
   "outputs": [],
   "source": [
    "rides.drop(['ride_id', 'booking_id', 'isGuest', 'price_nominal'], axis=1, inplace=True)"
   ]
  },
  {
   "cell_type": "code",
   "execution_count": 7,
   "metadata": {},
   "outputs": [
    {
     "data": {
      "text/plain": [
       "user_id                        object\n",
       "loyalty.status                  int64\n",
       "loyalty_points_earned           int64\n",
       "price.loyalty.points_spent     object\n",
       "price_after_discount          float64\n",
       "state                          object\n",
       "quote_date                     object\n",
       "dtype: object"
      ]
     },
     "execution_count": 7,
     "metadata": {},
     "output_type": "execute_result"
    }
   ],
   "source": [
    "rides.dtypes"
   ]
  },
  {
   "cell_type": "markdown",
   "metadata": {},
   "source": [
    "Nous pouvons convertir la date au format **dateTime** pour plus de facilité par la suite"
   ]
  },
  {
   "cell_type": "code",
   "execution_count": 8,
   "metadata": {},
   "outputs": [],
   "source": [
    "rides[\"quote_date\"] = pd.to_datetime(rides[\"quote_date\"])"
   ]
  },
  {
   "cell_type": "markdown",
   "metadata": {},
   "source": [
    "## Partie 1: avoir un aperçu de la façon dont le code promotionnel a été utilisé <a name=\"Part1\"></a>"
   ]
  },
  {
   "cell_type": "markdown",
   "metadata": {},
   "source": [
    "### A. Le nombre de personnes qui le réclament  <a name=\"Claim\"></a>"
   ]
  },
  {
   "cell_type": "markdown",
   "metadata": {},
   "source": [
    "Pour avoir le nombre d'utilisateurs qui ont demandé le code, nous gardons uniquement les lignes dont l'attribut `promocode_name` vaut **promocode** et comme précisé dans l'enoncé nous ne nous soucions que des lignes dont l'attribut `type` vaut **coupon_created** .<br/>\n",
    "il nous suffit ensuite de voir le nombre de valeur unique prise par la feature `user_id` \n",
    "\n",
    "*Nous sauvgardons la liste de ces utilisateur dans un tableau numpy pour plus tard*"
   ]
  },
  {
   "cell_type": "code",
   "execution_count": 9,
   "metadata": {},
   "outputs": [
    {
     "data": {
      "text/plain": [
       "9805"
      ]
     },
     "execution_count": 9,
     "metadata": {},
     "output_type": "execute_result"
    }
   ],
   "source": [
    "events_promocode = events[(events[\"promocode_name\"] == \"promocode\") & (events[\"type\"] == \"coupon_created\")]\n",
    "userWhoClaimed = events_promocode[\"user_id\"].unique()\n",
    "userWhoClaimedCount = userWhoClaimed.shape[0]\n",
    "userWhoClaimedCount"
   ]
  },
  {
   "cell_type": "markdown",
   "metadata": {},
   "source": [
    "Nous avons donc **9805** utilisateurs qui ont demandé le promocode ."
   ]
  },
  {
   "cell_type": "markdown",
   "metadata": {},
   "source": [
    "### B. Le nombre de personnes qui en ont bénéficié <a name=\"Benefited\"></a>"
   ]
  },
  {
   "cell_type": "markdown",
   "metadata": {},
   "source": [
    "Pour compter le nombre de personne qui ont bénéficié du promocode nous allons devoir filtrer le dataset `rides` pour ne garder que les courses qui ont bénéficié du promocode."
   ]
  },
  {
   "cell_type": "markdown",
   "metadata": {},
   "source": [
    "Nous gardons que les courses achevées ..."
   ]
  },
  {
   "cell_type": "code",
   "execution_count": 10,
   "metadata": {},
   "outputs": [],
   "source": [
    "rides_completed = rides[rides[\"state\"] == \"completed\"]"
   ]
  },
  {
   "cell_type": "markdown",
   "metadata": {},
   "source": [
    "Qui ont Gagné des points ..."
   ]
  },
  {
   "cell_type": "code",
   "execution_count": 11,
   "metadata": {},
   "outputs": [],
   "source": [
    "rides_completed_winPoints = rides_completed[rides_completed[\"loyalty_points_earned\"] > 0]"
   ]
  },
  {
   "cell_type": "markdown",
   "metadata": {},
   "source": [
    "Qui ont eu lieu entre le 15 et 21 mai 2017 ..."
   ]
  },
  {
   "cell_type": "code",
   "execution_count": 12,
   "metadata": {},
   "outputs": [],
   "source": [
    "rides_completed_winPoints_inPeriod = rides_completed_winPoints[(rides_completed_winPoints['quote_date']>='2017-05-17') & (rides_completed_winPoints['quote_date'] <= '2017-05-22')]"
   ]
  },
  {
   "cell_type": "markdown",
   "metadata": {},
   "source": [
    "> Ici la limite supérieure est le 22. En mettant le 21 comme limite nous n'obtenions pas les courses ayant eu lieu le 21"
   ]
  },
  {
   "cell_type": "markdown",
   "metadata": {},
   "source": [
    "Et dont la valeur de la feature `user_id` se trouve dans le tableau des utilisateurs ayant réclamé le promocode sauvgardé précédemment. \n"
   ]
  },
  {
   "cell_type": "code",
   "execution_count": 14,
   "metadata": {},
   "outputs": [],
   "source": [
    "underProm_rides = rides_completed_winPoints_inPeriod[rides_completed_winPoints_inPeriod['user_id'].isin(userWhoClaimed)]"
   ]
  },
  {
   "cell_type": "markdown",
   "metadata": {},
   "source": [
    "---\n",
    "*On peut aussi récupérer cette liste en utilisant la fonction `merge` sur `user_id`*"
   ]
  },
  {
   "cell_type": "code",
   "execution_count": 15,
   "metadata": {},
   "outputs": [],
   "source": [
    "benefited_users = pd.merge(rides_completed_winPoints_inPeriod, events_promocode, on=\"user_id\")"
   ]
  },
  {
   "cell_type": "markdown",
   "metadata": {},
   "source": [
    "---"
   ]
  },
  {
   "cell_type": "markdown",
   "metadata": {},
   "source": [
    "il nous suffit ensuite de voir le nombre de valeur unique prise par la feature `user_id` pour avoir le nombre d'utilisateurs ayant bénéficié du promocode grâce à la fonction `unique`"
   ]
  },
  {
   "cell_type": "code",
   "execution_count": 16,
   "metadata": {},
   "outputs": [
    {
     "data": {
      "text/plain": [
       "6877"
      ]
     },
     "execution_count": 16,
     "metadata": {},
     "output_type": "execute_result"
    }
   ],
   "source": [
    "userWhoUsed = underProm_rides['user_id'].unique()\n",
    "userWhoUsedCount = userWhoUsed.shape[0]\n",
    "userWhoUsedCount"
   ]
  },
  {
   "cell_type": "markdown",
   "metadata": {},
   "source": [
    "Nous avons donc **6877** utilisateurs qui ont bénéficié du promocode"
   ]
  },
  {
   "cell_type": "markdown",
   "metadata": {},
   "source": [
    "### C. Le taux de conversion "
   ]
  },
  {
   "cell_type": "markdown",
   "metadata": {},
   "source": []
  },
  {
   "cell_type": "markdown",
   "metadata": {},
   "source": [
    "$taux\\,de \\, conversion = \\frac{userWhoUsed}{userWhoClaimed}\\times100$"
   ]
  },
  {
   "cell_type": "code",
   "execution_count": 17,
   "metadata": {},
   "outputs": [
    {
     "data": {
      "text/plain": [
       "70.13768485466598"
      ]
     },
     "execution_count": 17,
     "metadata": {},
     "output_type": "execute_result"
    }
   ],
   "source": [
    "(userWhoUsedCount/userWhoClaimedCount) * 100"
   ]
  },
  {
   "cell_type": "markdown",
   "metadata": {},
   "source": [
    "Le taux de conversion est donc de **70,1 %**"
   ]
  },
  {
   "cell_type": "markdown",
   "metadata": {},
   "source": [
    "### D. Nombre de courses effectuées avec ce promocode  <a name=\"Ridesnb\"></a>"
   ]
  },
  {
   "cell_type": "code",
   "execution_count": 18,
   "metadata": {
    "scrolled": true
   },
   "outputs": [],
   "source": [
    "underPromoCode = rides_completed_winPoints_inPeriod[rides_completed_winPoints_inPeriod[\"user_id\"].isin(userWhoClaimed)]"
   ]
  },
  {
   "cell_type": "markdown",
   "metadata": {},
   "source": [
    "La fonction `len` nous permet d'avoir le nombre de lignes du dataframe "
   ]
  },
  {
   "cell_type": "code",
   "execution_count": 19,
   "metadata": {},
   "outputs": [
    {
     "data": {
      "text/plain": [
       "16684"
      ]
     },
     "execution_count": 19,
     "metadata": {},
     "output_type": "execute_result"
    }
   ],
   "source": [
    "len(underProm_rides)"
   ]
  },
  {
   "cell_type": "markdown",
   "metadata": {},
   "source": [
    "Nous avons donc **16684** courses effectuées avec le promocode"
   ]
  },
  {
   "cell_type": "markdown",
   "metadata": {},
   "source": [
    "### E. Répartition des utilisateurs par statut de fidélité <a name=\"Users\"></a>"
   ]
  },
  {
   "cell_type": "markdown",
   "metadata": {},
   "source": [
    "Nous allons commencer par enregistrer dans un tableau tout les utilisateurs en fonction de leur statut"
   ]
  },
  {
   "cell_type": "code",
   "execution_count": 20,
   "metadata": {},
   "outputs": [],
   "source": [
    "userByLoyalty = []\n",
    "userByLoyaltyCount = []\n",
    "\n",
    "for i in range(0,4):\n",
    "    userByLoyalty.append(rides[rides['loyalty.status'] == i]['user_id'].unique())\n",
    "    \n",
    "for tmp in userByLoyalty:\n",
    "    userByLoyaltyCount.append(tmp.size)"
   ]
  },
  {
   "cell_type": "markdown",
   "metadata": {},
   "source": [
    "Nous avons un tableau des utilisateurs ayant réclamé le promocode : **userWhoClaimed** <br/>\n",
    "Nous aurons besoin d'un tableau des uutilisateurs n'ayant pas réclamé le promocode : **userWhoNotClaimed**\n",
    "\n",
    ">Ici nous prenons en compte que les utilisateurs n'ayant pas réclamé le promocode n'ont pas forcément gagné de point pendant leurs courses"
   ]
  },
  {
   "cell_type": "code",
   "execution_count": 21,
   "metadata": {},
   "outputs": [],
   "source": [
    "rides_completed_inPeriod = rides_completed[(rides_completed['quote_date']>='2017-05-17') & (rides_completed['quote_date'] <= '2017-05-22')]\n",
    "userWhoNotClaimed = rides[~(rides['user_id'].isin(userWhoClaimed))]['user_id'].unique()"
   ]
  },
  {
   "cell_type": "markdown",
   "metadata": {},
   "source": [
    "Nous construisons un dataframe réunissant toutes les courses réalisé sans promocode "
   ]
  },
  {
   "cell_type": "code",
   "execution_count": 22,
   "metadata": {},
   "outputs": [],
   "source": [
    "notUnderProm_rides = rides_completed_inPeriod[rides_completed_inPeriod['user_id'].isin(userWhoNotClaimed)]"
   ]
  },
  {
   "cell_type": "markdown",
   "metadata": {},
   "source": [
    "Nous construisons deux dataframes contenant le compte des utilisateurs pas statuts:\n",
    "* Un pour les courses **ayant bénéficié du promocode\n",
    "* Un pour les courses **n'ayant pas bénéficié** du promocode"
   ]
  },
  {
   "cell_type": "code",
   "execution_count": 23,
   "metadata": {},
   "outputs": [],
   "source": [
    "underPromLoyaltyCount = pd.DataFrame({'count'})\n",
    "notUnderPromLoyaltyCount = pd.DataFrame({'count'})\n",
    "\n",
    "for i in range(4):\n",
    "    underPromLoyaltyCount.loc[i] = (underProm_rides[underProm_rides['user_id'].isin(userByLoyalty[i])].shape[0])\n",
    "\n",
    "for i in range(4):\n",
    "    notUnderPromLoyaltyCount.loc[i] = (notUnderProm_rides[notUnderProm_rides['user_id'].isin(userByLoyalty[i])].shape[0])"
   ]
  },
  {
   "cell_type": "markdown",
   "metadata": {},
   "source": [
    "Pour pouvoir afficher des graphiques nous concatainons les deux dataframes grâce à la fonction `concat`"
   ]
  },
  {
   "cell_type": "code",
   "execution_count": 24,
   "metadata": {},
   "outputs": [],
   "source": [
    "ridesByLoyalty = pd.concat([underPromLoyaltyCount, notUnderPromLoyaltyCount], axis=1, ignore_index=False)"
   ]
  },
  {
   "cell_type": "markdown",
   "metadata": {},
   "source": [
    "Nous pouvons maintenant afficher les graphiques en camembert de la répartition de utilisateurs"
   ]
  },
  {
   "cell_type": "code",
   "execution_count": 40,
   "metadata": {},
   "outputs": [
    {
     "data": {
      "text/plain": [
       "array([<matplotlib.axes._subplots.AxesSubplot object at 0x0000019BBC7638D0>,\n",
       "       <matplotlib.axes._subplots.AxesSubplot object at 0x0000019BBC796048>],\n",
       "      dtype=object)"
      ]
     },
     "execution_count": 40,
     "metadata": {},
     "output_type": "execute_result"
    },
    {
     "data": {
      "image/png": "[encoded data removed]",
      "text/plain": [
       "<Figure size 720x720 with 2 Axes>"
      ]
     },
     "metadata": {},
     "output_type": "display_data"
    }
   ],
   "source": [
    "ridesByLoyalty.columns=['Under Promocode', 'Not Under Promocode']\n",
    "ridesByLoyalty.plot(kind=\"pie\", subplots =True, title=['Under Promocode', 'Not Under Promocode'], figsize = (10,10))"
   ]
  },
  {
   "cell_type": "markdown",
   "metadata": {},
   "source": [
    "Nous remarquons deux choses:\n",
    "* Les courses ayant bénéficié du promocode sont effectuées en majorité par les utilisateurs de statut 2 et 3\n",
    "* Les courses n'ayant pas bénéficié du promocode sont effectuées en majorité par les utilisateurs de statut 0 et 1"
   ]
  },
  {
   "cell_type": "markdown",
   "metadata": {},
   "source": [
    "### F. Répartition des courses par de fidélité <a name=\"Rides\"></a>"
   ]
  },
  {
   "cell_type": "markdown",
   "metadata": {},
   "source": [
    "Nous allons céer un tableau et créer une case par statut. "
   ]
  },
  {
   "cell_type": "code",
   "execution_count": 27,
   "metadata": {},
   "outputs": [
    {
     "data": {
      "text/plain": [
       "array([<matplotlib.axes._subplots.AxesSubplot object at 0x0000019BA48CDB70>],\n",
       "      dtype=object)"
      ]
     },
     "execution_count": 27,
     "metadata": {},
     "output_type": "execute_result"
    },
    {
     "data": {
      "image/png": "[encoded data removed]",
      "text/plain": [
       "<Figure size 432x288 with 1 Axes>"
      ]
     },
     "metadata": {},
     "output_type": "display_data"
    }
   ],
   "source": [
    "userByLoyalty = []\n",
    "userByLoyaltyCount = []\n",
    "userByLoyaltyWhoClaimed = []\n",
    "\n",
    "for i in range(0,4):\n",
    "    userByLoyalty.append(rides[rides['loyalty.status'] == i]['user_id'].unique())\n",
    "    \n",
    "for tmp in userByLoyalty:\n",
    "    userByLoyaltyCount.append(tmp.size)\n",
    "    \n",
    "\n",
    "# for element in userWhoClaimed:\n",
    "#     for i in range(0,4):\n",
    "#         if element in userByLoyalty[]\n",
    "    \n",
    "df_userByLoyaltyCount = pd.DataFrame(userByLoyaltyCount)\n",
    "df_userByLoyaltyCount.plot(kind='pie', subplots = True, title=\"Users by status\")"
   ]
  },
  {
   "cell_type": "markdown",
   "metadata": {},
   "source": [
    "## Partie 2: était-ce une bonne campagne ? <a name=\"Part2\"></a>"
   ]
  },
  {
   "cell_type": "markdown",
   "metadata": {},
   "source": [
    "### A. Coût de la campagne <a name=\"Cost\"></a>"
   ]
  },
  {
   "cell_type": "markdown",
   "metadata": {},
   "source": [
    "Nous commençons par calculer le nombre de points donné pendant la campagne. <br/>\n",
    "Il nous est dit que toutes les courses éligibles gagnaient 5 fois plus de points qu'à l'accoutumée. <br/>\n",
    "le nombre de points donné est donc égal au nombre de point gagné habituellement fois 4."
   ]
  },
  {
   "cell_type": "code",
   "execution_count": 28,
   "metadata": {},
   "outputs": [
    {
     "name": "stderr",
     "output_type": "stream",
     "text": [
      "C:\\Users\\Martin\\anaconda\\lib\\site-packages\\ipykernel_launcher.py:1: SettingWithCopyWarning: \n",
      "A value is trying to be set on a copy of a slice from a DataFrame.\n",
      "Try using .loc[row_indexer,col_indexer] = value instead\n",
      "\n",
      "See the caveats in the documentation: http://pandas.pydata.org/pandas-docs/stable/indexing.html#indexing-view-versus-copy\n",
      "  \"\"\"Entry point for launching an IPython kernel.\n"
     ]
    }
   ],
   "source": [
    "underProm_rides['givenPoints'] = underProm_rides['loyalty_points_earned'] * 4 "
   ]
  },
  {
   "cell_type": "markdown",
   "metadata": {},
   "source": [
    "Il nous ai dit dans la documentation que chaque point vaut environ 0.1€\n",
    "Pour avoir le prix de la campagne il nous suffit donc de multiplier le nombre total de point donnés (obtenus avec la fonction `sum`) par 0.1 "
   ]
  },
  {
   "cell_type": "code",
   "execution_count": 29,
   "metadata": {},
   "outputs": [
    {
     "data": {
      "text/plain": [
       "60302.4"
      ]
     },
     "execution_count": 29,
     "metadata": {},
     "output_type": "execute_result"
    }
   ],
   "source": [
    "underProm_rides['givenPoints'].sum() * 0.1"
   ]
  },
  {
   "cell_type": "markdown",
   "metadata": {},
   "source": [
    "La campagne aura donc coûté **60302 €**"
   ]
  },
  {
   "cell_type": "markdown",
   "metadata": {},
   "source": [
    "---\n",
    "*Une autre méthode consiste à aller obtenir le nombre de point gagné par euro en fonction du statut sur*\n",
    "[cette page](https://www.kapten.com/fr/passagers/programme-de-fidelite/)"
   ]
  },
  {
   "cell_type": "markdown",
   "metadata": {},
   "source": [
    "On obtient ainsi les informations suivantes\n",
    "* Temps normal\n",
    "    * 0: 1€ = 1 points\n",
    "    * 1: 1€ = 2 points\n",
    "    * 2-3 : 1€ = 3 points\n",
    "\n",
    "\n",
    "* Promocode x 5\n",
    "    * 0: 1€ = 5 points: différence = 4 points/€\n",
    "    * 1: 1€ = 10 points: différence = 8 points/€\n",
    "    * 2-3: 1€ = 15 points: différence = 12 points/€*\n"
   ]
  },
  {
   "cell_type": "code",
   "execution_count": 30,
   "metadata": {},
   "outputs": [
    {
     "name": "stderr",
     "output_type": "stream",
     "text": [
      "C:\\Users\\Martin\\anaconda\\lib\\site-packages\\ipykernel_launcher.py:14: SettingWithCopyWarning: \n",
      "A value is trying to be set on a copy of a slice from a DataFrame.\n",
      "Try using .loc[row_indexer,col_indexer] = value instead\n",
      "\n",
      "See the caveats in the documentation: http://pandas.pydata.org/pandas-docs/stable/indexing.html#indexing-view-versus-copy\n",
      "  \n"
     ]
    }
   ],
   "source": [
    "import numpy as np\n",
    "\n",
    "conditions = [(underProm_rides['loyalty.status'] == 0),\n",
    "             (underProm_rides['loyalty.status'] == 1),\n",
    "             (underProm_rides['loyalty.status'] == 2),\n",
    "             (underProm_rides['loyalty.status'] == 3)]\n",
    "\n",
    "choices = [(underProm_rides['price_after_discount'].apply(np.ceil)) * 4,\n",
    "          (underProm_rides['price_after_discount'].apply(np.ceil)) * 8,\n",
    "          (underProm_rides['price_after_discount'].apply(np.ceil)) * 12,\n",
    "          (underProm_rides['price_after_discount'].apply(np.ceil)) * 12\n",
    "          ]\n",
    "\n",
    "underProm_rides['givenPoints_2'] = np.select(conditions, choices, default=0)\n"
   ]
  },
  {
   "cell_type": "markdown",
   "metadata": {},
   "source": [
    "la fonction `np.select` va permettre de affecter une valeur (se trouvant dans le tableau `choices`) en fonction d'une conddition (se trouvant de le tableau `conditions`)\n",
    "\n",
    "> une ligne ayant un `loyalty.status` égale à 1 aura pour valeur de `givenPoints_2`,  son `price_after_discount` multiplié par 8"
   ]
  },
  {
   "cell_type": "code",
   "execution_count": 31,
   "metadata": {},
   "outputs": [
    {
     "data": {
      "text/plain": [
       "107394.40000000001"
      ]
     },
     "execution_count": 31,
     "metadata": {},
     "output_type": "execute_result"
    }
   ],
   "source": [
    "underProm_rides['givenPoints_2'].sum() * 0.1"
   ]
  },
  {
   "cell_type": "markdown",
   "metadata": {},
   "source": [
    "Avec cette méthode on obtient un coût de **107394 €**\n",
    "***"
   ]
  },
  {
   "cell_type": "markdown",
   "metadata": {},
   "source": [
    "Le nombre de points gagné par statut pouvant changer nous allons garder la première option pour la suite de cet exercice"
   ]
  },
  {
   "cell_type": "markdown",
   "metadata": {},
   "source": [
    "### B. Revenus additionnels générés par la campagne <a name=\"Incomes\"></a>"
   ]
  },
  {
   "cell_type": "markdown",
   "metadata": {},
   "source": [
    "Pour calculer les revenus additionnels générés par la campagne nous allons d'abord récupérer la somme gagnée pour chaque utilisateur hors de la période de promotion."
   ]
  },
  {
   "cell_type": "code",
   "execution_count": 41,
   "metadata": {},
   "outputs": [],
   "source": [
    "rides_completed_outPeriod = rides_completed[((rides_completed['quote_date']<'2017-05-17') | (rides_completed['quote_date'] > '2017-05-21')) & rides_completed['user_id'].isin(userWhoClaimed)]\n",
    "income_outPeriod = []\n",
    "for user in userWhoUsed:\n",
    "    income_outPeriod.append([user, rides_completed_outPeriod[rides_completed_outPeriod['user_id'] == user]['price_after_discount'].sum()])"
   ]
  },
  {
   "cell_type": "markdown",
   "metadata": {},
   "source": [
    ">cette requête est gourmande en temps"
   ]
  },
  {
   "cell_type": "markdown",
   "metadata": {},
   "source": [
    "Une fois récupérée,  nous calculons la moyenne des revenus pour chaque utilisateur, par jour puis pour 5 jours ( la durée de la promotion )"
   ]
  },
  {
   "cell_type": "code",
   "execution_count": 47,
   "metadata": {},
   "outputs": [],
   "source": [
    "df_income_outPeriod = pd.DataFrame(income_outPeriod, columns=['user', 'totalIncome_outPeriod'])\n",
    "df_income_outPeriod.set_index('user')\n",
    "df_income_outPeriod['incomePerDay_outPeriod'] = df_income_outPeriod['totalIncome_outPeriod'] / rides_completed_outPeriod['quote_date'].dt.date.nunique()\n",
    "df_income_outPeriod['incomeFor5Days_OutPeriod'] = df_income_outPeriod['incomePerDay_outPeriod'] * 5"
   ]
  },
  {
   "cell_type": "markdown",
   "metadata": {},
   "source": [
    "Nous récupérons ensuite les revenus pour le même utilisateur mais cette fois pendant la durée de la campagne."
   ]
  },
  {
   "cell_type": "code",
   "execution_count": 43,
   "metadata": {},
   "outputs": [],
   "source": [
    "income_inPeriod = []\n",
    "for user in userWhoUsed:\n",
    "    income_inPeriod.append([user, underProm_rides[underProm_rides['user_id'] == user]['price_after_discount'].sum()])"
   ]
  },
  {
   "cell_type": "markdown",
   "metadata": {},
   "source": [
    ">cette requête est gourmande en temps"
   ]
  },
  {
   "cell_type": "markdown",
   "metadata": {},
   "source": [
    "On utilise ensuite la fonction `merge` pour réunir les deux dataframes au niveau de la colonne `user`"
   ]
  },
  {
   "cell_type": "code",
   "execution_count": 44,
   "metadata": {},
   "outputs": [],
   "source": [
    "df_income_inPeriod = pd.DataFrame(income_inPeriod , columns = ['user', 'totalIncome_inPeriod'])\n",
    "income_final = pd.merge(df_income_inPeriod, df_income_outPeriod, on='user')"
   ]
  },
  {
   "cell_type": "markdown",
   "metadata": {},
   "source": [
    "On calcule les revenus additionnels générés faissant la somme des revenus additionnels pour chaque utilisateur."
   ]
  },
  {
   "cell_type": "code",
   "execution_count": 45,
   "metadata": {},
   "outputs": [
    {
     "data": {
      "text/plain": [
       "49546.94873417722"
      ]
     },
     "execution_count": 45,
     "metadata": {},
     "output_type": "execute_result"
    }
   ],
   "source": [
    "income_final['earn'] = income_final['totalIncome_inPeriod'] - income_final['incomeFor5Days_OutPeriod']\n",
    "income_final['earn'].sum()"
   ]
  },
  {
   "cell_type": "markdown",
   "metadata": {},
   "source": [
    "la Campagne à donc générer **49546 €**"
   ]
  },
  {
   "cell_type": "markdown",
   "metadata": {},
   "source": [
    "### C. Calcul du ROI <a name=\"ROI\"></a>"
   ]
  },
  {
   "cell_type": "markdown",
   "metadata": {},
   "source": [
    "$retour\\,sur \\, investissement = \\frac{gain\\, de\\, l’investissement\\, –\\, coût\\, de\\, l’investissement}{coût\\, de\\, l’investissement\\,}\\times100$"
   ]
  },
  {
   "cell_type": "code",
   "execution_count": 46,
   "metadata": {},
   "outputs": [
    {
     "data": {
      "text/plain": [
       "-17.8368876654174"
      ]
     },
     "execution_count": 46,
     "metadata": {},
     "output_type": "execute_result"
    }
   ],
   "source": [
    "((49546 - 60302) / 60302) * 100"
   ]
  },
  {
   "cell_type": "markdown",
   "metadata": {},
   "source": [
    "la campagne a donc un retour sur investissment négatif de 17,8%"
   ]
  },
  {
   "cell_type": "markdown",
   "metadata": {},
   "source": [
    "On conclura donc que cette campagne n'a pas été profitable à la Kapten qui a perdu plus de **10 000 €** dessus."
   ]
  },
  {
   "cell_type": "code",
   "execution_count": null,
   "metadata": {},
   "outputs": [],
   "source": []
  }
 ],
 "metadata": {
  "kernelspec": {
   "display_name": "Python 3",
   "language": "python",
   "name": "python3"
  },
  "language_info": {
   "codemirror_mode": {
    "name": "ipython",
    "version": 3
   },
   "file_extension": ".py",
   "mimetype": "text/x-python",
   "name": "python",
   "nbconvert_exporter": "python",
   "pygments_lexer": "ipython3",
   "version": "3.7.3"
  }
 },
 "nbformat": 4,
 "nbformat_minor": 2
}
